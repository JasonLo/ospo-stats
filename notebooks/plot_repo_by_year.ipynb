{
 "cells": [
  {
   "cell_type": "code",
   "execution_count": 1,
   "metadata": {},
   "outputs": [
    {
     "name": "stdout",
     "output_type": "stream",
     "text": [
      "2024-03-20 04:15:55,347 INFO sqlalchemy.engine.Engine BEGIN (implicit)\n",
      "2024-03-20 04:15:55,348 INFO sqlalchemy.engine.Engine PRAGMA main.table_info(\"\n",
      "SELECT strftime('%Y', created_at) AS year, COUNT(*) AS num_repos\n",
      "FROM repo \n",
      "GROUP BY year\n",
      "ORDER BY year;\n",
      "\")\n",
      "2024-03-20 04:15:55,348 INFO sqlalchemy.engine.Engine [raw sql] ()\n",
      "2024-03-20 04:15:55,386 INFO sqlalchemy.engine.Engine PRAGMA temp.table_info(\"\n",
      "SELECT strftime('%Y', created_at) AS year, COUNT(*) AS num_repos\n",
      "FROM repo \n",
      "GROUP BY year\n",
      "ORDER BY year;\n",
      "\")\n",
      "2024-03-20 04:15:55,387 INFO sqlalchemy.engine.Engine [raw sql] ()\n",
      "2024-03-20 04:15:55,425 INFO sqlalchemy.engine.Engine \n",
      "SELECT strftime('%Y', created_at) AS year, COUNT(*) AS num_repos\n",
      "FROM repo \n",
      "GROUP BY year\n",
      "ORDER BY year;\n",
      "\n",
      "2024-03-20 04:15:55,426 INFO sqlalchemy.engine.Engine [raw sql] ()\n",
      "2024-03-20 04:15:55,470 INFO sqlalchemy.engine.Engine ROLLBACK\n"
     ]
    },
    {
     "data": {
      "text/html": [
       "\n",
       "<style>\n",
       "  #altair-viz-3de07fcc0cf94d2fa764ef2bc13c6d34.vega-embed {\n",
       "    width: 100%;\n",
       "    display: flex;\n",
       "  }\n",
       "\n",
       "  #altair-viz-3de07fcc0cf94d2fa764ef2bc13c6d34.vega-embed details,\n",
       "  #altair-viz-3de07fcc0cf94d2fa764ef2bc13c6d34.vega-embed details summary {\n",
       "    position: relative;\n",
       "  }\n",
       "</style>\n",
       "<div id=\"altair-viz-3de07fcc0cf94d2fa764ef2bc13c6d34\"></div>\n",
       "<script type=\"text/javascript\">\n",
       "  var VEGA_DEBUG = (typeof VEGA_DEBUG == \"undefined\") ? {} : VEGA_DEBUG;\n",
       "  (function(spec, embedOpt){\n",
       "    let outputDiv = document.currentScript.previousElementSibling;\n",
       "    if (outputDiv.id !== \"altair-viz-3de07fcc0cf94d2fa764ef2bc13c6d34\") {\n",
       "      outputDiv = document.getElementById(\"altair-viz-3de07fcc0cf94d2fa764ef2bc13c6d34\");\n",
       "    }\n",
       "    const paths = {\n",
       "      \"vega\": \"https://cdn.jsdelivr.net/npm/vega@5?noext\",\n",
       "      \"vega-lib\": \"https://cdn.jsdelivr.net/npm/vega-lib?noext\",\n",
       "      \"vega-lite\": \"https://cdn.jsdelivr.net/npm/vega-lite@5.16.3?noext\",\n",
       "      \"vega-embed\": \"https://cdn.jsdelivr.net/npm/vega-embed@6?noext\",\n",
       "    };\n",
       "\n",
       "    function maybeLoadScript(lib, version) {\n",
       "      var key = `${lib.replace(\"-\", \"\")}_version`;\n",
       "      return (VEGA_DEBUG[key] == version) ?\n",
       "        Promise.resolve(paths[lib]) :\n",
       "        new Promise(function(resolve, reject) {\n",
       "          var s = document.createElement('script');\n",
       "          document.getElementsByTagName(\"head\")[0].appendChild(s);\n",
       "          s.async = true;\n",
       "          s.onload = () => {\n",
       "            VEGA_DEBUG[key] = version;\n",
       "            return resolve(paths[lib]);\n",
       "          };\n",
       "          s.onerror = () => reject(`Error loading script: ${paths[lib]}`);\n",
       "          s.src = paths[lib];\n",
       "        });\n",
       "    }\n",
       "\n",
       "    function showError(err) {\n",
       "      outputDiv.innerHTML = `<div class=\"error\" style=\"color:red;\">${err}</div>`;\n",
       "      throw err;\n",
       "    }\n",
       "\n",
       "    function displayChart(vegaEmbed) {\n",
       "      vegaEmbed(outputDiv, spec, embedOpt)\n",
       "        .catch(err => showError(`Javascript Error: ${err.message}<br>This usually means there's a typo in your chart specification. See the javascript console for the full traceback.`));\n",
       "    }\n",
       "\n",
       "    if(typeof define === \"function\" && define.amd) {\n",
       "      requirejs.config({paths});\n",
       "      require([\"vega-embed\"], displayChart, err => showError(`Error loading script: ${err.message}`));\n",
       "    } else {\n",
       "      maybeLoadScript(\"vega\", \"5\")\n",
       "        .then(() => maybeLoadScript(\"vega-lite\", \"5.16.3\"))\n",
       "        .then(() => maybeLoadScript(\"vega-embed\", \"6\"))\n",
       "        .catch(showError)\n",
       "        .then(() => displayChart(vegaEmbed));\n",
       "    }\n",
       "  })({\"config\": {\"view\": {\"continuousWidth\": 300, \"continuousHeight\": 300}}, \"data\": {\"name\": \"data-c2c78af078d50879ca3960563799b7a7\"}, \"mark\": {\"type\": \"line\", \"point\": true}, \"encoding\": {\"x\": {\"field\": \"year\", \"type\": \"ordinal\"}, \"y\": {\"field\": \"cumulative_n\", \"title\": \"Cumulative Number of Repositories\", \"type\": \"quantitative\"}}, \"height\": 400, \"title\": \"Yearly Growth of UW\\u2013Madison's Open-Source (public) Repositories on GitHub\", \"width\": 600, \"$schema\": \"https://vega.github.io/schema/vega-lite/v5.16.3.json\", \"datasets\": {\"data-c2c78af078d50879ca3960563799b7a7\": [{\"year\": \"2008\", \"num_repos\": 1, \"cumulative_n\": 1}, {\"year\": \"2009\", \"num_repos\": 2, \"cumulative_n\": 3}, {\"year\": \"2010\", \"num_repos\": 5, \"cumulative_n\": 8}, {\"year\": \"2011\", \"num_repos\": 24, \"cumulative_n\": 32}, {\"year\": \"2012\", \"num_repos\": 79, \"cumulative_n\": 111}, {\"year\": \"2013\", \"num_repos\": 113, \"cumulative_n\": 224}, {\"year\": \"2014\", \"num_repos\": 196, \"cumulative_n\": 420}, {\"year\": \"2015\", \"num_repos\": 228, \"cumulative_n\": 648}, {\"year\": \"2016\", \"num_repos\": 293, \"cumulative_n\": 941}, {\"year\": \"2017\", \"num_repos\": 373, \"cumulative_n\": 1314}, {\"year\": \"2018\", \"num_repos\": 518, \"cumulative_n\": 1832}, {\"year\": \"2019\", \"num_repos\": 634, \"cumulative_n\": 2466}, {\"year\": \"2020\", \"num_repos\": 933, \"cumulative_n\": 3399}, {\"year\": \"2021\", \"num_repos\": 765, \"cumulative_n\": 4164}, {\"year\": \"2022\", \"num_repos\": 941, \"cumulative_n\": 5105}, {\"year\": \"2023\", \"num_repos\": 943, \"cumulative_n\": 6048}, {\"year\": \"2024\", \"num_repos\": 275, \"cumulative_n\": 6323}]}}, {\"mode\": \"vega-lite\"});\n",
       "</script>"
      ],
      "text/plain": [
       "alt.Chart(...)"
      ]
     },
     "execution_count": 1,
     "metadata": {},
     "output_type": "execute_result"
    }
   ],
   "source": [
    "from ospo_stats.visualize import plot_cumulative_repos, get_repo_by_year\n",
    "\n",
    "df = get_repo_by_year()\n",
    "plot_cumulative_repos(df)\n"
   ]
  }
 ],
 "metadata": {
  "kernelspec": {
   "display_name": "Python 3",
   "language": "python",
   "name": "python3"
  },
  "language_info": {
   "codemirror_mode": {
    "name": "ipython",
    "version": 3
   },
   "file_extension": ".py",
   "mimetype": "text/x-python",
   "name": "python",
   "nbconvert_exporter": "python",
   "pygments_lexer": "ipython3",
   "version": "3.11.8"
  }
 },
 "nbformat": 4,
 "nbformat_minor": 2
}
