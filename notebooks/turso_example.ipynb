{
 "cells": [
  {
   "cell_type": "markdown",
   "metadata": {},
   "source": [
    "https://docs.turso.tech/sdk/python/orm/sqlalchemy"
   ]
  },
  {
   "cell_type": "code",
   "execution_count": null,
   "metadata": {},
   "outputs": [],
   "source": [
    "from datetime import datetime\n",
    "\n",
    "from sqlalchemy import MetaData, Table, delete, select\n",
    "from sqlalchemy.orm import Session\n",
    "\n",
    "from ospo_stats.db import ENGINE, Base, Commit, Repo, Stargazer\n"
   ]
  },
  {
   "cell_type": "markdown",
   "metadata": {},
   "source": [
    "Create all tables"
   ]
  },
  {
   "cell_type": "code",
   "execution_count": null,
   "metadata": {},
   "outputs": [],
   "source": [
    "Base.metadata.create_all(ENGINE)"
   ]
  },
  {
   "cell_type": "markdown",
   "metadata": {},
   "source": [
    "Count number of records"
   ]
  },
  {
   "cell_type": "code",
   "execution_count": null,
   "metadata": {},
   "outputs": [],
   "source": [
    "with Session(ENGINE) as session:\n",
    "    count = session.query(Repo).count()\n",
    "    print(f\"Number of records: {count}\")"
   ]
  },
  {
   "cell_type": "code",
   "execution_count": null,
   "metadata": {},
   "outputs": [],
   "source": [
    "with Session(ENGINE) as session:\n",
    "    count = session.query(Commit).count()\n",
    "    print(f\"Number of records: {count}\")"
   ]
  },
  {
   "cell_type": "code",
   "execution_count": null,
   "metadata": {},
   "outputs": [],
   "source": [
    "with Session(ENGINE) as session:\n",
    "    count = session.query(Stargazer).count()\n",
    "    print(f\"Number of records: {count}\")"
   ]
  },
  {
   "cell_type": "markdown",
   "metadata": {},
   "source": [
    "Create example"
   ]
  },
  {
   "cell_type": "code",
   "execution_count": null,
   "metadata": {},
   "outputs": [],
   "source": [
    "\n",
    "with Session(ENGINE) as session:\n",
    "    repo = Repo(\n",
    "        url=\"https://github.com/UW-Madison-DSI/ospo-stats\",\n",
    "        homepage_url=\"https://datascience.wisc.edu/\",\n",
    "        crawl_at=datetime.now(),\n",
    "        created_at=datetime.now(),\n",
    "        last_pushed_at=datetime.now(),\n",
    "        owner=\"UW-Madison-DSI\",\n",
    "        name=\"ospo-stats\",\n",
    "        description=\"Open Source Program Office (OSPO) Stats\",\n",
    "        license_key=\"mit\",\n",
    "        license_name=\"MIT License\",\n",
    "        total_stargazer_count=0,\n",
    "        total_issues_count=0,\n",
    "        total_open_issues_count=0,\n",
    "        total_forks_count=0,\n",
    "        total_watchers_count=0,\n",
    "        readme=\"This is a test readme.\",\n",
    "        readme_has_image=False\n",
    "    )\n",
    "\n",
    "    session.add(repo)\n",
    "    session.commit()\n",
    "\n"
   ]
  },
  {
   "cell_type": "markdown",
   "metadata": {},
   "source": [
    "Query example"
   ]
  },
  {
   "cell_type": "code",
   "execution_count": null,
   "metadata": {},
   "outputs": [],
   "source": [
    "\n",
    "\n",
    "with Session(ENGINE) as session:\n",
    "    stmt = select(Repo).where(Repo.name == \"ospo-stats\")\n",
    "    results = session.execute(stmt).scalars().all()\n",
    "    for result in results:\n",
    "        print(f\"{result.url=}\")\n"
   ]
  },
  {
   "cell_type": "markdown",
   "metadata": {},
   "source": [
    "Delete example"
   ]
  },
  {
   "cell_type": "code",
   "execution_count": null,
   "metadata": {},
   "outputs": [],
   "source": [
    "\n",
    "\n",
    "with Session(ENGINE) as session:\n",
    "    stmt = delete(Repo).where(Repo.name == \"ospo-stats\")\n",
    "    session.execute(stmt)\n",
    "    session.commit()"
   ]
  },
  {
   "cell_type": "markdown",
   "metadata": {},
   "source": [
    "Drop table example (DANGER)"
   ]
  },
  {
   "cell_type": "code",
   "execution_count": null,
   "metadata": {},
   "outputs": [],
   "source": [
    "\n",
    "# Drop table snippets\n",
    "metadata = MetaData()\n",
    "repo_table = Table('stargazer', metadata, autoload_with=ENGINE)\n",
    "repo_table.drop(ENGINE)\n",
    "\n",
    "# Drop all tables (DANGER)\n",
    "\n",
    "# metadata = MetaData()\n",
    "# metadata.reflect(engine)\n",
    "# metadata.drop_all(engine)"
   ]
  },
  {
   "cell_type": "code",
   "execution_count": null,
   "metadata": {},
   "outputs": [],
   "source": [
    "# Create table\n",
    "\n",
    "metadata = MetaData()\n",
    "repo_table = Table('repo', metadata, autoload_with=ENGINE)\n",
    "repo_table.create(ENGINE)\n",
    "\n"
   ]
  }
 ],
 "metadata": {
  "kernelspec": {
   "display_name": "Python 3",
   "language": "python",
   "name": "python3"
  },
  "language_info": {
   "codemirror_mode": {
    "name": "ipython",
    "version": 3
   },
   "file_extension": ".py",
   "mimetype": "text/x-python",
   "name": "python",
   "nbconvert_exporter": "python",
   "pygments_lexer": "ipython3",
   "version": "3.11.8"
  }
 },
 "nbformat": 4,
 "nbformat_minor": 2
}
