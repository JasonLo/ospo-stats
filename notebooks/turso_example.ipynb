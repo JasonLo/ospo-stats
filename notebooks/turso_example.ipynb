{
 "cells": [
  {
   "cell_type": "markdown",
   "metadata": {},
   "source": [
    "https://docs.turso.tech/sdk/python/orm/sqlalchemy"
   ]
  },
  {
   "cell_type": "code",
   "execution_count": 1,
   "metadata": {},
   "outputs": [],
   "source": [
    "from datetime import datetime\n",
    "\n",
    "from sqlalchemy.orm import Session\n",
    "\n",
    "from ospo_stats.db import ENGINE, Repo\n"
   ]
  },
  {
   "cell_type": "markdown",
   "metadata": {},
   "source": [
    "Count number of records"
   ]
  },
  {
   "cell_type": "code",
   "execution_count": 4,
   "metadata": {},
   "outputs": [
    {
     "name": "stdout",
     "output_type": "stream",
     "text": [
      "2024-03-20 01:24:51,735 INFO sqlalchemy.engine.Engine BEGIN (implicit)\n",
      "2024-03-20 01:24:51,737 INFO sqlalchemy.engine.Engine SELECT count(*) AS count_1 \n",
      "FROM (SELECT repo.url AS repo_url, repo.crawl_at AS repo_crawl_at, repo.created_at AS repo_created_at, repo.owner AS repo_owner, repo.name AS repo_name, repo.description AS repo_description, repo.homepage_url AS repo_homepage_url, repo.last_pushed_at AS repo_last_pushed_at, repo.license_key AS repo_license_key, repo.license_name AS repo_license_name, repo.readme AS repo_readme, repo.readme_has_image AS repo_readme_has_image, repo.total_stargazer_count AS repo_total_stargazer_count, repo.total_issues_count AS repo_total_issues_count, repo.total_open_issues_count AS repo_total_open_issues_count, repo.total_forks_count AS repo_total_forks_count, repo.total_watchers_count AS repo_total_watchers_count \n",
      "FROM repo) AS anon_1\n",
      "2024-03-20 01:24:51,739 INFO sqlalchemy.engine.Engine [cached since 1703s ago] ()\n",
      "Number of records: 4360\n",
      "2024-03-20 01:24:51,779 INFO sqlalchemy.engine.Engine ROLLBACK\n"
     ]
    }
   ],
   "source": [
    "with Session(ENGINE) as session:\n",
    "    count = session.query(Repo).count()\n",
    "    print(f\"Number of records: {count}\")"
   ]
  },
  {
   "cell_type": "markdown",
   "metadata": {},
   "source": [
    "Create example"
   ]
  },
  {
   "cell_type": "code",
   "execution_count": null,
   "metadata": {},
   "outputs": [],
   "source": [
    "\n",
    "with Session(ENGINE) as session:\n",
    "    repo = Repo(\n",
    "        url=\"https://github.com/UW-Madison-DSI/ospo-stats\",\n",
    "        homepage_url=\"https://datascience.wisc.edu/\",\n",
    "        crawl_at=datetime.now(),\n",
    "        created_at=datetime.now(),\n",
    "        last_pushed_at=datetime.now(),\n",
    "        owner=\"UW-Madison-DSI\",\n",
    "        name=\"ospo-stats\",\n",
    "        description=\"Open Source Program Office (OSPO) Stats\",\n",
    "        license_key=\"mit\",\n",
    "        license_name=\"MIT License\",\n",
    "        total_stargazer_count=0,\n",
    "        total_issues_count=0,\n",
    "        total_open_issues_count=0,\n",
    "        total_forks_count=0,\n",
    "        total_watchers_count=0,\n",
    "        readme=\"This is a test readme.\",\n",
    "        readme_has_image=False\n",
    "    )\n",
    "\n",
    "    session.add(repo)\n",
    "    session.commit()\n",
    "\n"
   ]
  },
  {
   "cell_type": "markdown",
   "metadata": {},
   "source": [
    "Query example"
   ]
  },
  {
   "cell_type": "code",
   "execution_count": null,
   "metadata": {},
   "outputs": [],
   "source": [
    "from sqlalchemy import select\n",
    "\n",
    "with Session(ENGINE) as session:\n",
    "    stmt = select(Repo).where(Repo.name == \"ospo-stats\")\n",
    "    results = session.execute(stmt).scalars().all()\n",
    "    for result in results:\n",
    "        print(f\"{result.url=}\")\n"
   ]
  },
  {
   "cell_type": "markdown",
   "metadata": {},
   "source": [
    "Delete example"
   ]
  },
  {
   "cell_type": "code",
   "execution_count": null,
   "metadata": {},
   "outputs": [],
   "source": [
    "from sqlalchemy import delete\n",
    "\n",
    "with Session(ENGINE) as session:\n",
    "    stmt = delete(Repo).where(Repo.name == \"ospo-stats\")\n",
    "    session.execute(stmt)\n",
    "    session.commit()"
   ]
  },
  {
   "cell_type": "markdown",
   "metadata": {},
   "source": [
    "Drop table example (DANGER)"
   ]
  },
  {
   "cell_type": "code",
   "execution_count": null,
   "metadata": {},
   "outputs": [],
   "source": [
    "from sqlalchemy import MetaData, Table\n",
    "\n",
    "# Drop table snippets\n",
    "metadata = MetaData()\n",
    "repo_table = Table('trash_table', metadata, autoload_with=ENGINE)\n",
    "repo_table.drop(engine)\n",
    "\n",
    "# Drop all tables (DANGER)\n",
    "\n",
    "# metadata = MetaData()\n",
    "# metadata.reflect(engine)\n",
    "# metadata.drop_all(engine)"
   ]
  },
  {
   "cell_type": "code",
   "execution_count": null,
   "metadata": {},
   "outputs": [],
   "source": [
    "# Create table\n",
    "\n",
    "metadata = MetaData()\n",
    "repo_table = Table('repo', metadata, autoload_with=ENGINE)\n",
    "repo_table.create(engine)\n",
    "\n"
   ]
  }
 ],
 "metadata": {
  "kernelspec": {
   "display_name": "Python 3",
   "language": "python",
   "name": "python3"
  },
  "language_info": {
   "codemirror_mode": {
    "name": "ipython",
    "version": 3
   },
   "file_extension": ".py",
   "mimetype": "text/x-python",
   "name": "python",
   "nbconvert_exporter": "python",
   "pygments_lexer": "ipython3",
   "version": "3.11.8"
  }
 },
 "nbformat": 4,
 "nbformat_minor": 2
}
