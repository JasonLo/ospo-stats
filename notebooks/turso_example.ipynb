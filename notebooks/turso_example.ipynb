{
 "cells": [
  {
   "cell_type": "code",
   "execution_count": null,
   "metadata": {},
   "outputs": [],
   "source": [
    "!pip install sqlalchemy-libsql"
   ]
  },
  {
   "cell_type": "markdown",
   "metadata": {},
   "source": [
    "https://docs.turso.tech/sdk/python/orm/sqlalchemy"
   ]
  },
  {
   "cell_type": "markdown",
   "metadata": {},
   "source": [
    "Create example"
   ]
  },
  {
   "cell_type": "code",
   "execution_count": null,
   "metadata": {},
   "outputs": [],
   "source": [
    "from sqlalchemy.orm import Session\n",
    "from datetime import datetime\n",
    "from ospo_stats.db import ENGINE, Repo\n"
   ]
  },
  {
   "cell_type": "code",
   "execution_count": null,
   "metadata": {},
   "outputs": [],
   "source": [
    "\n",
    "with Session(ENGINE) as session:\n",
    "    repo = Repo(\n",
    "        url=\"https://github.com/UW-Madison-DSI/ospo-stats\",\n",
    "        homepage_url=\"https://datascience.wisc.edu/\",\n",
    "        crawl_at=datetime.now(),\n",
    "        created_at=datetime.now(),\n",
    "        last_pushed_at=datetime.now(),\n",
    "        owner=\"UW-Madison-DSI\",\n",
    "        name=\"ospo-stats\",\n",
    "        description=\"Open Source Program Office (OSPO) Stats\",\n",
    "        license_key=\"mit\",\n",
    "        license_name=\"MIT License\",\n",
    "        total_stargazer_count=0,\n",
    "        total_issues_count=0,\n",
    "        total_open_issues_count=0,\n",
    "        total_forks_count=0,\n",
    "        total_watchers_count=0,\n",
    "        readme=\"This is a test readme.\",\n",
    "        readme_has_image=False\n",
    "    )\n",
    "\n",
    "    session.add(repo)\n",
    "    session.commit()\n",
    "\n"
   ]
  },
  {
   "cell_type": "markdown",
   "metadata": {},
   "source": [
    "Query example"
   ]
  },
  {
   "cell_type": "code",
   "execution_count": null,
   "metadata": {},
   "outputs": [],
   "source": [
    "from sqlalchemy import select\n",
    "\n",
    "\n",
    "with Session(ENGINE) as session:\n",
    "    stmt = select(Repo).where(Repo.name == \"ospo-stats\")\n",
    "    results = session.execute(stmt).scalars().all()\n",
    "    for result in results:\n",
    "        print(f\"{result.url=}\")\n"
   ]
  },
  {
   "cell_type": "markdown",
   "metadata": {},
   "source": [
    "Delete example"
   ]
  },
  {
   "cell_type": "code",
   "execution_count": null,
   "metadata": {},
   "outputs": [],
   "source": [
    "from sqlalchemy import delete\n",
    "\n",
    "with Session(ENGINE) as session:\n",
    "    stmt = delete(Repo).where(Repo.name == \"ospo-stats\")\n",
    "    session.execute(stmt)\n",
    "    session.commit()"
   ]
  },
  {
   "cell_type": "markdown",
   "metadata": {},
   "source": [
    "Drop table example (DANGER)"
   ]
  },
  {
   "cell_type": "code",
   "execution_count": null,
   "metadata": {},
   "outputs": [],
   "source": [
    "from sqlalchemy import Table, MetaData\n",
    "\n",
    "# Drop table snippets\n",
    "metadata = MetaData()\n",
    "repo_table = Table('trash_table', metadata, autoload_with=ENGINE)\n",
    "repo_table.drop(engine)\n",
    "\n",
    "# Drop all tables (DANGER)\n",
    "\n",
    "# metadata = MetaData()\n",
    "# metadata.reflect(engine)\n",
    "# metadata.drop_all(engine)"
   ]
  }
 ],
 "metadata": {
  "kernelspec": {
   "display_name": "Python 3",
   "language": "python",
   "name": "python3"
  },
  "language_info": {
   "codemirror_mode": {
    "name": "ipython",
    "version": 3
   },
   "file_extension": ".py",
   "mimetype": "text/x-python",
   "name": "python",
   "nbconvert_exporter": "python",
   "pygments_lexer": "ipython3",
   "version": "3.11.8"
  }
 },
 "nbformat": 4,
 "nbformat_minor": 2
}
