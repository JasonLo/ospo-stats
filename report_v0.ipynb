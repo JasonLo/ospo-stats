{
 "cells": [
  {
   "cell_type": "markdown",
   "metadata": {},
   "source": [
    "## Efficiently crawl data from GitHub's GraphQL API\n",
    "\n",
    "Note to self:\n",
    "\n",
    "- Utilize GraphQL for Efficiency: GraphQL allows you to request exactly the data you need, reducing unnecessary data transfer.\n",
    "- Public Schema for Data Structure: This [public GH GraphQL schema](https://docs.github.com/en/graphql/overview/public-schema) is quite comprehensive.\n",
    "- Implement Graceful Retry for Rate Limits: Since GitHub's GraphQL API enforces rate limits, implement a retry mechanism that respects these limits to handle requests gracefully without hitting the rate limit. Refer to the rate limits [documentation]((https://docs.github.com/en/graphql/overview/rate-limits-and-node-limits-for-the-graphql-api)) for guidance.\n",
    "- Batch Queries by Year due to Max Results Limit: The maximum number of results you can fetch in one query is 1,000. To work around this, segment your queries by year or another logical division to retrieve all desired data without exceeding this limit.\n",
    "- Review and Adjust the Base Query as Necessary: [Existing query](ospo_stats/query.py) may need some changes, especially for handling data updates efficiently. Given the brief runtime of 3 minutes for the entire crawl, the current setup seems fine.\n",
    "\n"
   ]
  },
  {
   "cell_type": "code",
   "execution_count": null,
   "metadata": {},
   "outputs": [],
   "source": [
    "from ospo_stats.gh import discover_repos\n",
    "\n",
    "# Around 3 minutes run time from 2010 to 2024 , this will store all raw data to `data/` dir\n",
    "# Run once only\n",
    "discover_repos(\"uw-madison\", 2010, 2024, overwrite=True)"
   ]
  },
  {
   "cell_type": "markdown",
   "metadata": {},
   "source": [
    "## Visualizations\n",
    "\n",
    "- Cumulative repo by year\n",
    "- Cumulative stars by year? (Not implemented yet)\n",
    "- Cumulative commits by year? (Not implemented yet)"
   ]
  },
  {
   "cell_type": "markdown",
   "metadata": {},
   "source": [
    "### Calculate cumulative metrics by year"
   ]
  },
  {
   "cell_type": "code",
   "execution_count": null,
   "metadata": {},
   "outputs": [],
   "source": [
    "import pandas as pd\n",
    "import altair as alt\n",
    "from ospo_stats.parser import load\n",
    "\n",
    "df = load(\"data/\")\n",
    "df['year'] = pd.to_datetime(df['created_at']).dt.year\n",
    "\n",
    "cumulative_repos = df.groupby('year').name.nunique().cumsum()\n",
    "plot_df = cumulative_repos.reset_index(name='n')\n",
    "\n",
    "plot_df.head(5)"
   ]
  },
  {
   "cell_type": "markdown",
   "metadata": {},
   "source": [
    "### Plot cumulative metrics by year"
   ]
  },
  {
   "cell_type": "code",
   "execution_count": null,
   "metadata": {},
   "outputs": [],
   "source": [
    "plot = alt.Chart(plot_df).mark_line(point=True).encode(\n",
    "    x='year:O', \n",
    "    y='n:Q',\n",
    ").properties(\n",
    "    title=\"Yearly Growth of UW–Madison's Open-Source Repositories on GitHub\",\n",
    "    width=600,\n",
    "    height=400\n",
    ")\n",
    "\n",
    "plot"
   ]
  },
  {
   "cell_type": "markdown",
   "metadata": {},
   "source": [
    "### Somewhat interesting statistics\n",
    "\n",
    "- top-10 stared repo\n",
    "- top-10 commited repo"
   ]
  },
  {
   "cell_type": "code",
   "execution_count": null,
   "metadata": {},
   "outputs": [],
   "source": [
    "df.sort_values('stars', ascending=False).head(10)"
   ]
  },
  {
   "cell_type": "code",
   "execution_count": null,
   "metadata": {},
   "outputs": [],
   "source": [
    "df.sort_values('commits', ascending=False).head(10)"
   ]
  },
  {
   "cell_type": "markdown",
   "metadata": {},
   "source": [
    "## Future plans / discussion\n",
    "\n",
    "1. Get some inspiration from: https://r-universe.dev/search/\n",
    "1. What info are needed for outreach? Exemplary OSS repos?\n",
    "1. Categorization by repo's `description` and `readme` with LLM.\n",
    "1. Fixing misleading stars and commits by time plots"
   ]
  },
  {
   "cell_type": "code",
   "execution_count": 1,
   "metadata": {},
   "outputs": [],
   "source": [
    "from ospo_stats.gh import get_stargazers, get_commits\n",
    "from ospo_stats.parser import parse_stargazers, parse_commits, parse_discover_response\n",
    "import logging\n",
    "import pandas as pd\n",
    "\n",
    "logging.basicConfig(level=logging.INFO) "
   ]
  },
  {
   "cell_type": "code",
   "execution_count": null,
   "metadata": {},
   "outputs": [],
   "source": [
    "gs = get_stargazers(\"ad-freiburg\", \"qlever\")\n",
    "gs = [parse_stargazers(g) for g in gs]\n",
    "pd.DataFrame(gs)\n"
   ]
  },
  {
   "cell_type": "code",
   "execution_count": null,
   "metadata": {},
   "outputs": [],
   "source": [
    "cs = get_commits(\"jasonlo\", \"funsearch\")\n",
    "cs = [parse_commits(c) for c in cs]\n",
    "pd.DataFrame(cs)"
   ]
  },
  {
   "cell_type": "code",
   "execution_count": 3,
   "metadata": {},
   "outputs": [],
   "source": [
    "import json\n",
    "with open(\"data/repos_2011.json\", \"r\") as f:\n",
    "    data = json.load(f)"
   ]
  },
  {
   "cell_type": "code",
   "execution_count": 4,
   "metadata": {},
   "outputs": [
    {
     "data": {
      "text/plain": [
       "[{'repo': {'owner': {'login': 'aaronb'},\n",
       "   'name': 'xv6',\n",
       "   'url': 'https://github.com/aaronb/xv6',\n",
       "   'description': 'UW-Madison fork of xv6, the teaching operating system based on UNIX version 6',\n",
       "   'createdAt': '2011-06-24T02:56:54Z',\n",
       "   'pushedAt': '2012-01-30T17:23:27Z',\n",
       "   'stargazers': {'totalCount': 3},\n",
       "   'issues': {'totalCount': 0},\n",
       "   'defaultBranchRef': {'target': {'history': {'totalCount': 30}}},\n",
       "   'readme_standard': None,\n",
       "   'readme_lower': None}},\n",
       " {'repo': {'owner': {'login': 'khazelton'},\n",
       "   'name': 'math801f11',\n",
       "   'url': 'https://github.com/khazelton/math801f11',\n",
       "   'description': 'Repository for materials associated with Math 801, Fall 2011, UW-Madison',\n",
       "   'createdAt': '2011-09-12T22:52:11Z',\n",
       "   'pushedAt': '2012-01-26T12:22:58Z',\n",
       "   'stargazers': {'totalCount': 1},\n",
       "   'issues': {'totalCount': 0},\n",
       "   'defaultBranchRef': {'target': {'history': {'totalCount': 35}}},\n",
       "   'readme_standard': None,\n",
       "   'readme_lower': None}}]"
      ]
     },
     "execution_count": 4,
     "metadata": {},
     "output_type": "execute_result"
    }
   ],
   "source": [
    "data"
   ]
  },
  {
   "cell_type": "code",
   "execution_count": null,
   "metadata": {},
   "outputs": [],
   "source": []
  }
 ],
 "metadata": {
  "kernelspec": {
   "display_name": "Python 3",
   "language": "python",
   "name": "python3"
  },
  "language_info": {
   "codemirror_mode": {
    "name": "ipython",
    "version": 3
   },
   "file_extension": ".py",
   "mimetype": "text/x-python",
   "name": "python",
   "nbconvert_exporter": "python",
   "pygments_lexer": "ipython3",
   "version": "3.11.8"
  }
 },
 "nbformat": 4,
 "nbformat_minor": 2
}
