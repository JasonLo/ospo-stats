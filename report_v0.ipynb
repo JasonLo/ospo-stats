{
 "cells": [
  {
   "cell_type": "code",
   "execution_count": 1,
   "metadata": {},
   "outputs": [],
   "source": [
    "import requests\n",
    "from time import sleep\n",
    "import tenacity\n",
    "import json\n",
    "from pathlib import Path"
   ]
  },
  {
   "cell_type": "code",
   "execution_count": null,
   "metadata": {},
   "outputs": [],
   "source": [
    "@tenacity.retry(\n",
    "    stop=tenacity.stop_after_attempt(5),\n",
    "    wait=tenacity.wait_exponential(min=2, max=30),\n",
    ")\n",
    "def request_with_timeout(url: str) -> dict:\n",
    "    response = requests.get(url)\n",
    "    response.raise_for_status()\n",
    "    return response.json()\n",
    "\n",
    "\n",
    "def search_github(keyword: str) -> list[dict]:\n",
    "    \"\"\"Page through the GitHub API to retrieve all repositories matching a keyword.\"\"\"\n",
    "\n",
    "    repos = []\n",
    "\n",
    "    i = 1\n",
    "    while True:\n",
    "        data = request_with_timeout(f\"https://api.github.com/search/repositories?q={keyword}&page={i}&per_page=100\")\n",
    "        repos.extend(data['items'])\n",
    "        n = len(data['items'])\n",
    "        print(f\"Retrieved {n + (i-1) * 100} / {data['total_count']}\")\n",
    "        \n",
    "        if len(data['items']) < 100:\n",
    "            break\n",
    "        i += 1\n",
    "        sleep(1)\n",
    "    return repos"
   ]
  },
  {
   "cell_type": "code",
   "execution_count": null,
   "metadata": {},
   "outputs": [],
   "source": [
    "\n",
    "from gh import crawl\n"
   ]
  },
  {
   "cell_type": "code",
   "execution_count": null,
   "metadata": {},
   "outputs": [],
   "source": [
    "crawl(year_min=2024, year_max=2024)"
   ]
  },
  {
   "cell_type": "markdown",
   "metadata": {},
   "source": [
    "{\n",
    "  search(\n",
    "    type: REPOSITORY\n",
    "    query: \"\"\"\n",
    "    uw-madison\n",
    "    created:2024-01-01..2024-12-31\n",
    "    \"\"\"\n",
    "    first: 30\n",
    "    after: \"Y3Vyc29yOjk=\"\n",
    "  ) {\n",
    "    pageInfo {\n",
    "      endCursor\n",
    "      hasNextPage\n",
    "    }\n",
    "    repos: edges {\n",
    "      repo: node {\n",
    "        ... on Repository {\n",
    "          url\n",
    "          mainReadme: object(expression: \"main:README.md\") {\n",
    "            ... on Blob {\n",
    "              text\n",
    "            }\n",
    "          }\n",
    "          masterReadme: object(expression: \"master:README.md\") {\n",
    "            ... on Blob {\n",
    "              text\n",
    "            }\n",
    "          }\n",
    "          allIssues: issues {\n",
    "            totalCount\n",
    "          }\n",
    "          openIssues: issues(states: OPEN) {\n",
    "            totalCount\n",
    "          }\n",
    "          commitsCountMain: object(expression: \"main\") {\n",
    "            ... on Commit {\n",
    "              history {\n",
    "                totalCount\n",
    "              }\n",
    "            }\n",
    "          }\n",
    "          commitsCountMaster: object(expression: \"master\") {\n",
    "            ... on Commit {\n",
    "              history {\n",
    "                totalCount\n",
    "              }\n",
    "            }\n",
    "          }\n",
    "        }\n",
    "      }\n",
    "    }\n",
    "  }\n",
    "}"
   ]
  },
  {
   "cell_type": "code",
   "execution_count": 2,
   "metadata": {},
   "outputs": [],
   "source": [
    "import requests"
   ]
  },
  {
   "cell_type": "code",
   "execution_count": 5,
   "metadata": {},
   "outputs": [
    {
     "data": {
      "text/plain": [
       "True"
      ]
     },
     "execution_count": 5,
     "metadata": {},
     "output_type": "execute_result"
    }
   ],
   "source": [
    "from dotenv import load_dotenv\n",
    "import os\n",
    "load_dotenv()"
   ]
  },
  {
   "cell_type": "code",
   "execution_count": 22,
   "metadata": {},
   "outputs": [],
   "source": [
    "graph_ql = \"\"\"\n",
    "{\n",
    "  search(\n",
    "    type: REPOSITORY\n",
    "    query: \"uw-madison\"\n",
    "    first: 3\n",
    "  ) {\n",
    "    pageInfo {\n",
    "      endCursor\n",
    "      hasNextPage\n",
    "    }\n",
    "    repos: edges {\n",
    "      repo: node {\n",
    "        ... on Repository {\n",
    "          url\n",
    "          mainReadme: object(expression: \"main:README.md\") {\n",
    "            ... on Blob {\n",
    "              text\n",
    "            }\n",
    "          }\n",
    "          masterReadme: object(expression: \"master:README.md\") {\n",
    "            ... on Blob {\n",
    "              text\n",
    "            }\n",
    "          }\n",
    "          allIssues: issues {\n",
    "            totalCount\n",
    "          }\n",
    "          openIssues: issues(states: OPEN) {\n",
    "            totalCount\n",
    "          }\n",
    "          commitsCountMain: object(expression: \"main\") {\n",
    "            ... on Commit {\n",
    "              history {\n",
    "                totalCount\n",
    "              }\n",
    "            }\n",
    "          }\n",
    "          commitsCountMaster: object(expression: \"master\") {\n",
    "            ... on Commit {\n",
    "              history {\n",
    "                totalCount\n",
    "              }\n",
    "            }\n",
    "          }\n",
    "        }\n",
    "      }\n",
    "    }\n",
    "  }\n",
    "}\n",
    "\"\"\"\n"
   ]
  },
  {
   "cell_type": "code",
   "execution_count": 25,
   "metadata": {},
   "outputs": [],
   "source": [
    "GH_GRAPHQL_URL = \"https://api.github.com/graphql\"\n",
    "\n",
    "headers = {\n",
    "    \"Authorization\": f\"Bearer {os.getenv('GITHUB_TOKEN')}\"\n",
    "}\n",
    "\n",
    "response = requests.post(GH_GRAPHQL_URL, headers=headers, json={\"query\": graph_ql})"
   ]
  },
  {
   "cell_type": "code",
   "execution_count": 26,
   "metadata": {},
   "outputs": [
    {
     "data": {
      "text/plain": [
       "{'data': {'search': {'pageInfo': {'endCursor': 'Y3Vyc29yOjM=',\n",
       "    'hasNextPage': True},\n",
       "   'repos': [{'repo': {'url': 'https://github.com/rasbt/stat453-deep-learning-ss21',\n",
       "      'mainReadme': {'text': '# stat453-deep-learning-ss21\\nSTAT 453: Intro to Deep Learning @ UW-Madison (Spring 2021)\\n'},\n",
       "      'masterReadme': None,\n",
       "      'allIssues': {'totalCount': 4},\n",
       "      'openIssues': {'totalCount': 3},\n",
       "      'commitsCountMain': {'history': {'totalCount': 44}},\n",
       "      'commitsCountMaster': None}},\n",
       "    {'repo': {'url': 'https://github.com/rasbt/stat453-deep-learning-ss20',\n",
       "      'mainReadme': None,\n",
       "      'masterReadme': {'text': '# STAT 453: Introduction to Deep Learning and Generative Models\\n\\n**Course Website: http://pages.stat.wisc.edu/~sraschka/teaching/stat453-ss2020/**\\n\\n\\n## Topics Summary (Planned)\\n\\nBelow is a list of the topics I am planning to cover. Note that while these topics are numerated by lectures, note that some lectures are longer or shorter than others. Also, we may skip over certain topics in favor of others if time is a concern. While this section provides an overview of potential topics to be covered, the actual topics will be listed in the course [calendar](http://pages.stat.wisc.edu/~sraschka/teaching/stat453-ss2020/#calendar) at the bottom of the course website.\\n\\n\\n\\n**Part 1: Introduction**\\n- [L01: Course overview, introduction to deep learning](L01-intro)\\n- [L02: The brief history of deep learning](L02-dl-history)\\n- [L03: Single-layer neural networks: The perceptron algorithm](L03-perceptron)\\n\\n**Part 2: Mathematical and computational foundations**\\n- [L04: Linear algebra and calculus for deep learning](L04-linalg)\\n- [L05: Parameter optimization with gradient descent](L05-grad-descent)\\n- [L06: Automatic differentiation & PyTorch](L06-pytorch)\\n- [L06.5: Cloud Computing](L06-pytorch) [ [Recording](https://www.youtube.com/watch?v=9eH1SAs8K3o&t) ]\\n\\n\\n**Part 3: Introduction to neural networks**\\n- [L07: Multinomial logistic regression](L07-logistic)\\n- [L08: Multilayer perceptrons](L08-mlp)\\n- [L09: Regularization](L09-regularization) [ [Recording](https://www.youtube.com/watch?v=KwaxQKiLkFY) ]\\n- [L10: Input normalization and weight initialization](L10_norm-and-init) [ [Recording Part 1/2](https://www.youtube.com/watch?v=QQD9Y2FiotQ) ]  [ [Recording Part 2/2](https://www.youtube.com/watch?v=H_hrdUUrjho) ]\\n- [L11: Learning rates and advanced optimization algorithms](L11-optim) [ [Recording](https://www.youtube.com/watch?v=MyWwxEHC5zE) ]\\n\\n**Part 4: Deep learning for computer vision and language modeling**\\n- [L12: Introduction to convolutional neural networks 1](L12-cnns) [ [Recording](https://www.youtube.com/watch?v=7ftuaShIzhc) ]\\n- [L13: Introduction to convolutional neural networks 2](L13-cnns-part2) [ [Recording 1/2](https://www.youtube.com/watch?v=mZmyp0JjH6s) ] [ [Recording 2/2](https://www.youtube.com/watch?v=ji05GxulVuY) ]\\n- [L 14: Introduction to recurrent neural networks 1](L14-rnns) [ [Recording](https://www.youtube.com/watch?v=tFWex9e-sg8) ]\\n- ~~Introduction to recurrent neural networks 2~~\\n\\n**Part 5: Deep generative models**\\n- [L15: Autoencoders](https://github.com/rasbt/stat453-deep-learning-ss20/tree/master/L15-autoencoder) [ [Recording](https://youtu.be/iddlDHXDxc0) ]\\n- ~~Autoregressive models~~\\n- ~~Variational autoencoders~~\\n- ~~Normalizing Flow Models~~\\n- [L16: Generative adversarial networks 1](https://github.com/rasbt/stat453-deep-learning-ss20/tree/master/L16-gan) [ [Recording](https://youtu.be/aka29GqbsEM) ]\\n- ~~Generative adversarial networks 2~~\\n- ~~Evaluating generative models~~\\n\\n**Part 6: Class projects and final exam**\\n- Student project presentations 1 [ [Recording](https://www.youtube.com/watch?v=e_I0q3mmfw4) ]\\n- Student project presentations 2\\n- Student project presentations 3\\n- Final exam\\n- Final report (online submission)\\n'},\n",
       "      'allIssues': {'totalCount': 2},\n",
       "      'openIssues': {'totalCount': 1},\n",
       "      'commitsCountMain': None,\n",
       "      'commitsCountMaster': {'history': {'totalCount': 84}}}},\n",
       "    {'repo': {'url': 'https://github.com/rasbt/stat451-machine-learning-fs20',\n",
       "      'mainReadme': None,\n",
       "      'masterReadme': {'text': '[![Binder](https://mybinder.org/badge_logo.svg)](https://mybinder.org/v2/gh/rasbt/stat451-machine-learning-fs20/master)\\n\\n# stat451-machine-learning-fs20\\n\\nSTAT 451: Intro to Machine Learning @ UW-Madison (Fall 2020)\\n\\n- [Lecture 01](L01): Course overview, introduction to machine learning\\n- [Lecture 02](L02): Nearest Neighbor Methods\\n- [Lecture 03](L03): Python\\n- [Lecture 04](L04): Scientific Computing in Python\\n- [Lecture 05](L05): Scikit-learn\\n- [Lecture 06](L06): Decision Trees\\n- [Lecture 07](L07): Ensemble Methods\\n- [Lecture 08](L08): Model Evaluation 1: Overfitting and Underfitting\\n- [Lecture 09](L09): Model Evaluation 2: Resampling Methods and Confidence Intervals\\n- [Lecture 10](L10): Model Evaluation 3: Cross-Validation and Model Selection\\n- [Lecture 11](L11): Model Evaluation 4: Algorithm Comparison\\n- [Lecture 12](L12): Model Evaluation 5: Performance Metrics'},\n",
       "      'allIssues': {'totalCount': 1},\n",
       "      'openIssues': {'totalCount': 0},\n",
       "      'commitsCountMain': None,\n",
       "      'commitsCountMaster': {'history': {'totalCount': 32}}}}]}}}"
      ]
     },
     "execution_count": 26,
     "metadata": {},
     "output_type": "execute_result"
    }
   ],
   "source": [
    "response.json()"
   ]
  }
 ],
 "metadata": {
  "kernelspec": {
   "display_name": "Python 3",
   "language": "python",
   "name": "python3"
  },
  "language_info": {
   "codemirror_mode": {
    "name": "ipython",
    "version": 3
   },
   "file_extension": ".py",
   "mimetype": "text/x-python",
   "name": "python",
   "nbconvert_exporter": "python",
   "pygments_lexer": "ipython3",
   "version": "3.11.8"
  }
 },
 "nbformat": 4,
 "nbformat_minor": 2
}
